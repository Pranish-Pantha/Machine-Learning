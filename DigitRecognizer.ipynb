{
  "nbformat": 4,
  "nbformat_minor": 0,
  "metadata": {
    "colab": {
      "name": "DigitRecognizer.ipynb",
      "provenance": [],
      "collapsed_sections": [],
      "toc_visible": true,
      "authorship_tag": "ABX9TyNh1GCOZYJcydaG8A05uo2q",
      "include_colab_link": true
    },
    "kernelspec": {
      "name": "python3",
      "display_name": "Python 3"
    },
    "accelerator": "GPU"
  },
  "cells": [
    {
      "cell_type": "markdown",
      "metadata": {
        "id": "view-in-github",
        "colab_type": "text"
      },
      "source": [
        "<a href=\"https://colab.research.google.com/github/Pranish-Pantha/Machine-Learning/blob/master/DigitRecognizer.ipynb\" target=\"_parent\"><img src=\"https://colab.research.google.com/assets/colab-badge.svg\" alt=\"Open In Colab\"/></a>"
      ]
    },
    {
      "cell_type": "code",
      "metadata": {
        "id": "doWXpyhV3tAI",
        "colab_type": "code",
        "outputId": "4482c59f-b74c-4db8-f642-8e3ab5408d8a",
        "colab": {
          "base_uri": "https://localhost:8080/",
          "height": 54
        }
      },
      "source": [
        "%tensorflow_version 2.x\n",
        "from google.colab import drive\n",
        "drive.mount('drive')"
      ],
      "execution_count": 0,
      "outputs": [
        {
          "output_type": "stream",
          "text": [
            "Drive already mounted at drive; to attempt to forcibly remount, call drive.mount(\"drive\", force_remount=True).\n"
          ],
          "name": "stdout"
        }
      ]
    },
    {
      "cell_type": "code",
      "metadata": {
        "id": "1j3cGX9IHci0",
        "colab_type": "code",
        "colab": {}
      },
      "source": [
        "import pandas as pd\n",
        "import numpy as np\n",
        "import matplotlib.pyplot as plt\n",
        "import seaborn\n",
        "train_data = pd.read_csv(\"drive/My Drive/Kaggle/MNIST/train.csv\")\n",
        "test_data = pd.read_csv(\"drive/My Drive/Kaggle/MNIST/test.csv\")\n"
      ],
      "execution_count": 0,
      "outputs": []
    },
    {
      "cell_type": "code",
      "metadata": {
        "id": "zp9imnW3NCsV",
        "colab_type": "code",
        "outputId": "2f2ae014-28a0-45c5-a203-f3533655ac8b",
        "colab": {
          "base_uri": "https://localhost:8080/",
          "height": 282
        }
      },
      "source": [
        "sample = train_data.loc[0][1:]\n",
        "answer = train_data.loc[0][0]\n",
        "sample = np.array(sample)\n",
        "sample = np.split(sample, 28)\n",
        "plt.imshow(sample, cmap='gray_r')\n",
        "print(\"Anwer is {}\".format(answer))"
      ],
      "execution_count": 0,
      "outputs": [
        {
          "output_type": "stream",
          "text": [
            "Anwer is 1\n"
          ],
          "name": "stdout"
        },
        {
          "output_type": "display_data",
          "data": {
            "image/png": "[encoded data removed]",
            "text/plain": [
              "<Figure size 432x288 with 1 Axes>"
            ]
          },
          "metadata": {
            "tags": []
          }
        }
      ]
    },
    {
      "cell_type": "code",
      "metadata": {
        "id": "PfI1NK_JprlW",
        "colab_type": "code",
        "outputId": "a8ba9b8a-8596-441a-8804-4159b4566009",
        "colab": {
          "base_uri": "https://localhost:8080/",
          "height": 282
        }
      },
      "source": [
        "sample = test_data.loc[0]\n",
        "sample = np.array(sample)\n",
        "sample = np.split(sample, 28)\n",
        "plt.imshow(sample, cmap='gray_r')\n",
        "print(\"Anwer is {}\".format(2))"
      ],
      "execution_count": 0,
      "outputs": [
        {
          "output_type": "stream",
          "text": [
            "Anwer is 2\n"
          ],
          "name": "stdout"
        },
        {
          "output_type": "display_data",
          "data": {
            "image/png": "[encoded data removed]",
            "text/plain": [
              "<Figure size 432x288 with 1 Axes>"
            ]
          },
          "metadata": {
            "tags": []
          }
        }
      ]
    },
    {
      "cell_type": "code",
      "metadata": {
        "id": "BOfde45RNYuL",
        "colab_type": "code",
        "outputId": "fabc5fd2-e8a3-438e-e823-69856d5f1a79",
        "colab": {
          "base_uri": "https://localhost:8080/",
          "height": 139
        }
      },
      "source": [
        "answers = train_data.get(\"label\")\n",
        "answers = np.array(answers)\n",
        "print(train_data.columns)\n",
        "training = (train_data.get(train_data.columns[1:])).to_numpy() / 255\n",
        "training = training.reshape(42000, 28, 28, 1)  \n",
        "print(answers.shape)"
      ],
      "execution_count": 0,
      "outputs": [
        {
          "output_type": "stream",
          "text": [
            "Index(['label', 'pixel0', 'pixel1', 'pixel2', 'pixel3', 'pixel4', 'pixel5',\n",
            "       'pixel6', 'pixel7', 'pixel8',\n",
            "       ...\n",
            "       'pixel774', 'pixel775', 'pixel776', 'pixel777', 'pixel778', 'pixel779',\n",
            "       'pixel780', 'pixel781', 'pixel782', 'pixel783'],\n",
            "      dtype='object', length=785)\n",
            "(42000,)\n"
          ],
          "name": "stdout"
        }
      ]
    },
    {
      "cell_type": "code",
      "metadata": {
        "id": "q_R90qnxQN5O",
        "colab_type": "code",
        "outputId": "cf0b1d33-6ab2-4046-c816-e7c4eb4eb3e7",
        "colab": {
          "base_uri": "https://localhost:8080/",
          "height": 1000
        }
      },
      "source": [
        "import tensorflow as tf\n",
        "from tensorflow.keras.models import Sequential\n",
        "from tensorflow.keras.layers import Dense, Dropout, Activation, Flatten\n",
        "from tensorflow.keras.layers import Convolution2D, Conv2D, MaxPooling2D, GlobalAveragePooling2D\n",
        "from tensorflow.keras.optimizers import Adam\n",
        "from keras.utils import to_categorical\n",
        "answers = to_categorical(answers)\n",
        "\n",
        "model = Sequential()\n",
        "model.add(Conv2D(32, (2,2), input_shape=(28, 28, 1), activation='relu'))\n",
        "#model.add(MaxPooling2D(pool_size=(2,2)))\n",
        "#model.add(Dropout(0.2))\n",
        "\n",
        "model.add(Conv2D(32, (2,2), activation='relu'))\n",
        "model.add(MaxPooling2D(pool_size=(2,2)))\n",
        "model.add(Dropout(0.2))\n",
        "\n",
        "model.add(Conv2D(64, (2,2), activation='relu'))\n",
        "model.add(MaxPooling2D(pool_size=(2,2)))\n",
        "model.add(Dropout(0.2))\n",
        "\n",
        "model.add(Conv2D(128, (2,2), activation='relu'))\n",
        "model.add(MaxPooling2D(pool_size=(2,2)))\n",
        "model.add(Dropout(0.2))\n",
        "model.add(GlobalAveragePooling2D())\n",
        "\n",
        "\n",
        "model.add(Dense(10, activation='softmax'))\n",
        "model.compile(loss='categorical_crossentropy', metrics=['accuracy'], optimizer='adam')\n",
        "model.fit(training, answers, epochs= 30)\n"
      ],
      "execution_count": 0,
      "outputs": [
        {
          "output_type": "stream",
          "text": [
            "Epoch 1/30\n",
            "1313/1313 [==============================] - 5s 4ms/step - loss: 0.5865 - accuracy: 0.8061\n",
            "Epoch 2/30\n",
            "1313/1313 [==============================] - 5s 4ms/step - loss: 0.1930 - accuracy: 0.9405\n",
            "Epoch 3/30\n",
            "1313/1313 [==============================] - 5s 4ms/step - loss: 0.1462 - accuracy: 0.9548\n",
            "Epoch 4/30\n",
            "1313/1313 [==============================] - 5s 4ms/step - loss: 0.1177 - accuracy: 0.9641\n",
            "Epoch 5/30\n",
            "1313/1313 [==============================] - 6s 4ms/step - loss: 0.1024 - accuracy: 0.9689\n",
            "Epoch 6/30\n",
            "1313/1313 [==============================] - 5s 4ms/step - loss: 0.0926 - accuracy: 0.9711\n",
            "Epoch 7/30\n",
            "1313/1313 [==============================] - 5s 4ms/step - loss: 0.0843 - accuracy: 0.9730\n",
            "Epoch 8/30\n",
            "1313/1313 [==============================] - 5s 4ms/step - loss: 0.0787 - accuracy: 0.9751\n",
            "Epoch 9/30\n",
            "1313/1313 [==============================] - 5s 4ms/step - loss: 0.0736 - accuracy: 0.9772\n",
            "Epoch 10/30\n",
            "1313/1313 [==============================] - 5s 4ms/step - loss: 0.0676 - accuracy: 0.9788\n",
            "Epoch 11/30\n",
            "1313/1313 [==============================] - 5s 4ms/step - loss: 0.0635 - accuracy: 0.9804\n",
            "Epoch 12/30\n",
            "1313/1313 [==============================] - 5s 4ms/step - loss: 0.0591 - accuracy: 0.9818\n",
            "Epoch 13/30\n",
            "1313/1313 [==============================] - 5s 4ms/step - loss: 0.0552 - accuracy: 0.9827\n",
            "Epoch 14/30\n",
            "1313/1313 [==============================] - 5s 4ms/step - loss: 0.0561 - accuracy: 0.9824\n",
            "Epoch 15/30\n",
            "1313/1313 [==============================] - 5s 4ms/step - loss: 0.0537 - accuracy: 0.9834\n",
            "Epoch 16/30\n",
            "1313/1313 [==============================] - 5s 4ms/step - loss: 0.0514 - accuracy: 0.9834\n",
            "Epoch 17/30\n",
            "1313/1313 [==============================] - 5s 4ms/step - loss: 0.0509 - accuracy: 0.9837\n",
            "Epoch 18/30\n",
            "1313/1313 [==============================] - 5s 4ms/step - loss: 0.0482 - accuracy: 0.9847\n",
            "Epoch 19/30\n",
            "1313/1313 [==============================] - 5s 4ms/step - loss: 0.0462 - accuracy: 0.9850\n",
            "Epoch 20/30\n",
            "1313/1313 [==============================] - 5s 4ms/step - loss: 0.0444 - accuracy: 0.9856\n",
            "Epoch 21/30\n",
            "1313/1313 [==============================] - 5s 4ms/step - loss: 0.0428 - accuracy: 0.9855\n",
            "Epoch 22/30\n",
            "1313/1313 [==============================] - 6s 4ms/step - loss: 0.0418 - accuracy: 0.9872\n",
            "Epoch 23/30\n",
            "1313/1313 [==============================] - 6s 4ms/step - loss: 0.0421 - accuracy: 0.9867\n",
            "Epoch 24/30\n",
            "1313/1313 [==============================] - 5s 4ms/step - loss: 0.0411 - accuracy: 0.9870\n",
            "Epoch 25/30\n",
            "1313/1313 [==============================] - 5s 4ms/step - loss: 0.0389 - accuracy: 0.9876\n",
            "Epoch 26/30\n",
            "1313/1313 [==============================] - 5s 4ms/step - loss: 0.0387 - accuracy: 0.9871\n",
            "Epoch 27/30\n",
            "1313/1313 [==============================] - 5s 4ms/step - loss: 0.0385 - accuracy: 0.9871\n",
            "Epoch 28/30\n",
            "1313/1313 [==============================] - 5s 4ms/step - loss: 0.0390 - accuracy: 0.9872\n",
            "Epoch 29/30\n",
            "1313/1313 [==============================] - 5s 4ms/step - loss: 0.0355 - accuracy: 0.9885\n",
            "Epoch 30/30\n",
            "1313/1313 [==============================] - 5s 4ms/step - loss: 0.0340 - accuracy: 0.9881\n"
          ],
          "name": "stdout"
        },
        {
          "output_type": "execute_result",
          "data": {
            "text/plain": [
              "<tensorflow.python.keras.callbacks.History at 0x7f2667e360b8>"
            ]
          },
          "metadata": {
            "tags": []
          },
          "execution_count": 12
        }
      ]
    },
    {
      "cell_type": "code",
      "metadata": {
        "id": "E_UjNCVkgMVj",
        "colab_type": "code",
        "outputId": "84809797-9179-4379-adfa-8058d4336482",
        "colab": {
          "base_uri": "https://localhost:8080/",
          "height": 244
        }
      },
      "source": [
        "\n",
        "testing = (test_data.get(test_data.columns)).to_numpy() / 255\n",
        "testing = testing.reshape(28000, 28, 28, 1)\n",
        "prediction = model.predict(testing)\n",
        "print(prediction)"
      ],
      "execution_count": 0,
      "outputs": [
        {
          "output_type": "stream",
          "text": [
            "[[4.0323873e-09 6.4257978e-15 9.9999976e-01 ... 3.3336686e-10\n",
            "  9.8301211e-12 1.8782258e-10]\n",
            " [9.9923623e-01 6.8880464e-11 7.0398164e-05 ... 3.8644711e-07\n",
            "  9.4552814e-07 2.1422234e-06]\n",
            " [1.5817173e-09 4.3752481e-17 1.7304283e-06 ... 2.7199744e-11\n",
            "  8.5892561e-06 9.9998915e-01]\n",
            " ...\n",
            " [1.2067409e-14 7.6368987e-17 5.3644800e-07 ... 3.4633457e-10\n",
            "  7.9490036e-08 2.4994014e-11]\n",
            " [6.4731360e-08 2.7086141e-12 5.6963054e-06 ... 2.1935950e-08\n",
            "  2.1313091e-09 9.9924350e-01]\n",
            " [1.4864425e-10 1.1090226e-19 9.9999988e-01 ... 1.8737227e-12\n",
            "  2.7665989e-10 1.8927983e-10]]\n"
          ],
          "name": "stdout"
        }
      ]
    },
    {
      "cell_type": "code",
      "metadata": {
        "id": "3JAldwMuophw",
        "colab_type": "code",
        "colab": {}
      },
      "source": [
        "output = []\n",
        "for x in range(len(prediction)):\n",
        "  a = np.where(prediction[x] == max(prediction[x]))\n",
        "  output.append(int(a[0]))\n"
      ],
      "execution_count": 0,
      "outputs": []
    },
    {
      "cell_type": "code",
      "metadata": {
        "id": "FddijJ1lpd70",
        "colab_type": "code",
        "outputId": "4ea16e11-e27f-4ab7-ba73-6bdb073192eb",
        "colab": {
          "base_uri": "https://localhost:8080/",
          "height": 139
        }
      },
      "source": [
        "final = []\n",
        "for x in range(len(test_data)):\n",
        "  final.append([x +1, output[x]])\n",
        "x = np.array(final)\n",
        "print(x)\n",
        "df = pd.DataFrame(data=x, columns=[\"ImageId\", \"Label\"])"
      ],
      "execution_count": 0,
      "outputs": [
        {
          "output_type": "stream",
          "text": [
            "[[    1     2]\n",
            " [    2     0]\n",
            " [    3     9]\n",
            " ...\n",
            " [27998     3]\n",
            " [27999     9]\n",
            " [28000     2]]\n"
          ],
          "name": "stdout"
        }
      ]
    },
    {
      "cell_type": "code",
      "metadata": {
        "id": "Q7u4Z-yOsLCH",
        "colab_type": "code",
        "colab": {}
      },
      "source": [
        "df.to_csv('drive/My Drive/Kaggle/MNIST/mnist.csv', index = False)"
      ],
      "execution_count": 0,
      "outputs": []
    },
    {
      "cell_type": "code",
      "metadata": {
        "id": "OxiMeCEqsiAk",
        "colab_type": "code",
        "colab": {}
      },
      "source": [
        ""
      ],
      "execution_count": 0,
      "outputs": []
    }
  ]
}