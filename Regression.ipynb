{
  "nbformat": 4,
  "nbformat_minor": 0,
  "metadata": {
    "colab": {
      "name": "Regression.ipynb",
      "provenance": [],
      "collapsed_sections": [],
      "include_colab_link": true
    },
    "kernelspec": {
      "name": "python3",
      "display_name": "Python 3"
    }
  },
  "cells": [
    {
      "cell_type": "markdown",
      "metadata": {
        "id": "view-in-github",
        "colab_type": "text"
      },
      "source": [
        "<a href=\"https://colab.research.google.com/github/Pranish-Pantha/Tensorflow-Google-Colabs/blob/master/Regression.ipynb\" target=\"_parent\"><img src=\"https://colab.research.google.com/assets/colab-badge.svg\" alt=\"Open In Colab\"/></a>"
      ]
    },
    {
      "cell_type": "markdown",
      "metadata": {
        "id": "W3E4z2fAbVQ7",
        "colab_type": "text"
      },
      "source": [
        "This is a tutorial on Polynomial Regression. We will be covering topics such as gradient descent, generating random datasets, underfitting and overfitting."
      ]
    },
    {
      "cell_type": "code",
      "metadata": {
        "id": "88eVEtAFePa_",
        "colab_type": "code",
        "outputId": "98a477a6-5e0d-4df5-ecb2-0d230a9b2a12",
        "colab": {
          "base_uri": "https://localhost:8080/",
          "height": 279
        }
      },
      "source": [
        "import math\n",
        "import numpy as np\n",
        "import matplotlib.pyplot as plt\n",
        "\n",
        "np.random.seed(0) #This makes sure that the random numbers generated are the same with each runtime. This ensures you can reliable test changes in your code\n",
        "x = np.random.rand(10, 1) #This generates 10 random values from the range 0-1 for x values\n",
        "y = 3*(x)**3 - x +np.random.rand(10, 1) # This generates 10 random values that follow a cubic pattern for y values\n",
        "plt.scatter(x,y,s=10)\n",
        "plt.xlabel('x')\n",
        "plt.ylabel('y')\n",
        "plt.show()\n",
        "# This plots the data as a scatterplot"
      ],
      "execution_count": 0,
      "outputs": [
        {
          "output_type": "display_data",
          "data": {
            "image/png": "[encoded data removed]",
            "text/plain": [
              "<Figure size 432x288 with 1 Axes>"
            ]
          },
          "metadata": {
            "tags": []
          }
        }
      ]
    },
    {
      "cell_type": "markdown",
      "metadata": {
        "id": "WGl2HCRIdBqb",
        "colab_type": "text"
      },
      "source": [
        "The above code shows us how to generate a random dataset and plot them. It is important later on that you use a numpy array. We can see that the pattern of the data is vaguely cubic, as supported by how we generated the y values. "
      ]
    },
    {
      "cell_type": "markdown",
      "metadata": {
        "id": "ls_6J8EwiKeP",
        "colab_type": "text"
      },
      "source": [
        "Now before we go to the next section, we need to know about gradient descent. Gradient descent is an algorithm used to find the minimums of a multivariable function. Anyone taking calculus 1 should be familiar with finding the minimums of a single variable equation: Taking the derivative of the function and setting it to 0. While this is not so simple for multivariable functions, the goal is essentially the same. One just takes partial derivatives (which are like normal derivatives, but with respect to specific variables) and use those to slowly move towards the minimum.\n",
        "This is the algorithm I will be using for gradient descent:\n",
        "$x_{n+1} = x_{n} - \\alpha\\nabla\\text{f(a)}$"
      ]
    },
    {
      "cell_type": "markdown",
      "metadata": {
        "id": "qltYP9MPweW7",
        "colab_type": "text"
      },
      "source": [
        "This is a recursive process. The next value for x (or any variable) is equal to the prior value of x minus $\\alpha$ times the gradient of the cost function. \n",
        "\n",
        "$\\alpha$ is the learning rate, which describes how quickly the solution will converge. If it is too high, oscilations will occur. If it is too low, the solution might not be reached.\n",
        "\n",
        "The cost function is the culmination of the error. For our example of regression, it will be the difference between predicted and actual y values (squared) divided by 2 times the number of data sets. $\\frac{1}{2m}\\sum{error^2}$ There are other measures of how well a model fits a dataset, but we will be using the cost function to evaluate our examples.\n",
        "\n",
        "The gradient can essentially be split up into partial derivatives for each variable. In our example of regression, we will calculate the gradient vectors through doing numpy.dot($x^n$, error). This uses matches the derivative of the cost function: $\\frac{1}{m}\\sum{(error)(x^n)}$\n",
        "The $x^n$ comes in because of the seperation of the cost function to each variable.\n",
        "\n",
        "Remember, the ultimate goal is to move the value of the cost function and each gradient vector to 0 because this means that the error is reaching a minimum."
      ]
    },
    {
      "cell_type": "code",
      "metadata": {
        "id": "E3LePTnMOVEN",
        "colab_type": "code",
        "colab": {}
      },
      "source": [
        "class PolyRegression: \n",
        "  def __init__(self, degree,x, alpha, cycles=1000): \n",
        "    self.alpha = alpha # This is the learning rate\n",
        "    self.cycles = cycles # This is the number of iterations you run the gradient descent\n",
        "    self.degree = degree # This is the highest polynomial degree regression of the instance (1-3).\n",
        "    self.cost_ = [] # This stores the cost function values, usually for testing\n",
        "    self.w_ = np.zeros((x.shape[1], 1)) # This is the value of the constant variable\n",
        "    self.w1_ = np.zeros((x.shape[1], 1)) # This is the value of the coeffiecient for the first degree\n",
        "    self.w2_ = np.zeros((x.shape[1], 1)) # This is the value of the coeffiecient for the second degree\n",
        "    self.w3_ = np.zeros((x.shape[1], 1)) # This is the value of the coeffiecient for the third degree\n",
        "    self.m = x.shape[0] # This is the number of data points\n",
        "    self.c = [1]*self.m # This is a value meant to shape the constant variables gradient properly\n",
        "  def fit(self, x, y):\n",
        "    if(self.degree==1):\n",
        "      for _ in range(self.cycles):\n",
        "          y_pred = np.dot(x, self.w1_) +self.w_ # Given the current values of each variable, it predicts y values for each x value\n",
        "          residuals = y_pred - y # This finds the error between the predicted and the actual\n",
        "          derivative1 = np.dot(x.T, residuals) \n",
        "          derivative0 = np.dot(self.c, residuals)\n",
        "          # These are how the partial derivatives are found\n",
        "          self.w1_ -= (self.alpha / self.m) * derivative1 \n",
        "          self.w_ -= (self.alpha/self.m) * derivative0\n",
        "          # These are the applications of the algorithm to change the variable values so they minimize error\n",
        "          cost = np.sum((residuals ** 2)) / (2 * self.m) # This caclulates the cost function\n",
        "          self.cost_.append(cost)\n",
        "    if(self.degree==2): # Everything serves the same function as in the first degree\n",
        "      for _ in range(self.cycles):\n",
        "          y_pred = np.dot(x**2, self.w2_)+np.dot(x, self.w1_) +self.w_\n",
        "          residuals = y_pred - y\n",
        "          derivative2 = np.dot((x.T)**2,residuals)\n",
        "          derivative1 = np.dot(x.T, residuals)\n",
        "          derivative0 = np.dot(self.c, residuals)\n",
        "          self.w2_ -= (self.alpha / self.m) * derivative2\n",
        "          self.w1_ -= (self.alpha / self.m) * derivative1\n",
        "          self.w_ -= (self.alpha/self.m) * derivative0\n",
        "          cost = np.sum((residuals ** 2)) / (2 * self.m)\n",
        "          self.cost_.append(cost)\n",
        "    if(self.degree == 3):# Everything serves the same function as in the first degree\n",
        "      for _ in range(self.cycles):\n",
        "        y_pred = np.dot(x**3, self.w3_)+np.dot(x**2, self.w2_)+np.dot(x, self.w1_) +self.w_\n",
        "        residuals = y_pred - y\n",
        "        derivative3 = np.dot((x.T)**3, residuals)\n",
        "        derivative2 = np.dot((x.T)**2,residuals)\n",
        "        derivative1 = np.dot(x.T, residuals)\n",
        "        derivative0 = np.dot(self.c, residuals)\n",
        "        self.w3_ -= (self.alpha / self.m) * derivative3\n",
        "        self.w2_ -= (self.alpha / self.m) * derivative2\n",
        "        self.w1_ -= (self.alpha / self.m) * derivative1\n",
        "        self.w_ -= (self.alpha/self.m) * derivative0\n",
        "        cost = np.sum(residuals**2) / (2 * self.m)\n",
        "        self.cost_.append(cost)\n",
        "    return self\n",
        "  def printWeights(self, x):\n",
        "        print(self.w_, self.w1_, self.w2_, self.w3_) # Prints the values of all variables\n",
        "        return 0"
      ],
      "execution_count": 0,
      "outputs": []
    },
    {
      "cell_type": "markdown",
      "metadata": {
        "id": "wpN9eVEaeXEg",
        "colab_type": "text"
      },
      "source": [
        "This is the class we will use to make the regression curves for our data. All functionality is described with comments. "
      ]
    },
    {
      "cell_type": "code",
      "metadata": {
        "id": "ifhyhtEC6GCS",
        "colab_type": "code",
        "outputId": "d5abde4b-1091-4d67-91f0-c22e0f8d61ee",
        "colab": {
          "base_uri": "https://localhost:8080/",
          "height": 299
        }
      },
      "source": [
        "b = np.arange(0,1,0.01)\n",
        "b = b.reshape([100, 1])\n",
        "n = PolyRegression(1, x,0.05)\n",
        "n.fit(x,y)\n",
        "z = n.printWeights(x)\n",
        "lineOriginal = plt.scatter(x,y,s=10)\n",
        "lineNew = plt.plot(b, n.w1_ *(b) + n.w_, 'r--')\n",
        "plt.legend([lineOriginal], [\"Data\"])\n",
        "print(\"Final cost: \",n.cost_[-1])"
      ],
      "execution_count": 0,
      "outputs": [
        {
          "output_type": "stream",
          "text": [
            "[[-0.91333069]] [[2.8601579]] [[0.]] [[0.]]\n",
            "Final cost:  0.09410419418996062\n"
          ],
          "name": "stdout"
        },
        {
          "output_type": "display_data",
          "data": {
            "image/png": "[encoded data removed]",
            "text/plain": [
              "<Figure size 432x288 with 1 Axes>"
            ]
          },
          "metadata": {
            "tags": []
          }
        }
      ]
    },
    {
      "cell_type": "markdown",
      "metadata": {
        "id": "JsRlu8n81-Fj",
        "colab_type": "text"
      },
      "source": [
        "This is a linear regression of our generated data. Based on the printed variable values, you know the equation for the line is $y = 2.86x - 0.91$\n",
        "However, we can see the line doesn't fit the curve that well, so we should move to a higher degree."
      ]
    },
    {
      "cell_type": "code",
      "metadata": {
        "id": "--jNdbj86AqY",
        "colab_type": "code",
        "outputId": "153ca820-5696-4a42-cc09-de3286b21f26",
        "colab": {
          "base_uri": "https://localhost:8080/",
          "height": 313
        }
      },
      "source": [
        "n = PolyRegression(2, x,0.05)\n",
        "n.fit(x,y)\n",
        "z = n.printWeights(x)\n",
        "lineOriginal = plt.scatter(x,y,s=10)\n",
        "lineNew = plt.plot(b, n.w2_*(b**2) + n.w1_ *(b) + n.w_, 'r--')\n",
        "plt.legend([lineOriginal], [\"Data\"])\n",
        "plt.xlabel(\"Position Level\")\n",
        "print(\"Final cost: \",n.cost_[-1])"
      ],
      "execution_count": 0,
      "outputs": [
        {
          "output_type": "stream",
          "text": [
            "[[-0.6820613]] [[1.09719203]] [[2.0359276]] [[0.]]\n",
            "Final cost:  0.06383685657269429\n"
          ],
          "name": "stdout"
        },
        {
          "output_type": "display_data",
          "data": {
            "image/png": "[encoded data removed]",
            "text/plain": [
              "<Figure size 432x288 with 1 Axes>"
            ]
          },
          "metadata": {
            "tags": []
          }
        }
      ]
    },
    {
      "cell_type": "markdown",
      "metadata": {
        "id": "99KGvvt63JBx",
        "colab_type": "text"
      },
      "source": [
        "This is a quadratic regression of our data. We can see the equation of the curve is $y = 2.04x^2 + 1.10x -0.68$\n",
        "This is better than the linear regression but we know that the data has a cubic nature, so we should go to that."
      ]
    },
    {
      "cell_type": "code",
      "metadata": {
        "id": "dgNmFbLoONEr",
        "colab_type": "code",
        "outputId": "cb5708b1-4da4-4ff8-c38f-fe9e0426ef4c",
        "colab": {
          "base_uri": "https://localhost:8080/",
          "height": 299
        }
      },
      "source": [
        "n = PolyRegression(3, x,0.05)\n",
        "n.fit(x,y)\n",
        "z = n.printWeights(x)\n",
        "lineOriginal = plt.scatter(x,y,s=10)\n",
        "lineNew = plt.plot(b, n.w3_*(b**3)+n.w2_*(b**2) + n.w1_ *(b) + n.w_, 'r--')\n",
        "plt.legend([lineOriginal], [\"Data\"])\n",
        "print(\"Final cost: \",n.cost_[-1])"
      ],
      "execution_count": 0,
      "outputs": [
        {
          "output_type": "stream",
          "text": [
            "[[-0.36745602]] [[0.54691814]] [[1.08345657]] [[1.38044896]]\n",
            "Final cost:  0.056352322669538844\n"
          ],
          "name": "stdout"
        },
        {
          "output_type": "display_data",
          "data": {
            "image/png": "[encoded data removed]",
            "text/plain": [
              "<Figure size 432x288 with 1 Axes>"
            ]
          },
          "metadata": {
            "tags": []
          }
        }
      ]
    },
    {
      "cell_type": "markdown",
      "metadata": {
        "id": "w3VhVq6u3j__",
        "colab_type": "text"
      },
      "source": [
        "This is a cubic regression of the data. The equation of the curve is $y = 1.38x^3 + 1.08x^2 + 0.55x - 0.37$\n",
        "This is a good fit for our data. We could possibly reduce the cost function even more with higher degrees, but we risk overfitting the data if we do that.\n",
        "Overfitting will be explained at the end."
      ]
    },
    {
      "cell_type": "code",
      "metadata": {
        "id": "EOKEpmThQH_P",
        "colab_type": "code",
        "outputId": "dfe9261c-b890-4fc3-e979-403e57307f55",
        "colab": {
          "base_uri": "https://localhost:8080/",
          "height": 296
        }
      },
      "source": [
        "x = np.arange(1, 11, 1)\n",
        "x = x.reshape(10, 1)\n",
        "y = [45000,\n",
        "50000,\n",
        "60000,\n",
        "80000,\n",
        "110000,\n",
        "150000,\n",
        "200000,\n",
        "300000,\n",
        "500000,\n",
        "1000000]\n",
        "y = np.array(y)\n",
        "y = y.reshape(10, 1)\n",
        "plt.xlabel(\"Position Level\")\n",
        "plt.ylabel(\"Salary\")\n",
        "plt.scatter(x,y, s=10)"
      ],
      "execution_count": 0,
      "outputs": [
        {
          "output_type": "execute_result",
          "data": {
            "text/plain": [
              "<matplotlib.collections.PathCollection at 0x7f7d2c4dca90>"
            ]
          },
          "metadata": {
            "tags": []
          },
          "execution_count": 63
        },
        {
          "output_type": "display_data",
          "data": {
            "image/png": "[encoded data removed]",
            "text/plain": [
              "<Figure size 432x288 with 1 Axes>"
            ]
          },
          "metadata": {
            "tags": []
          }
        }
      ]
    },
    {
      "cell_type": "markdown",
      "metadata": {
        "id": "RHkl72co5Qx_",
        "colab_type": "text"
      },
      "source": [
        "This was the company dataset that was provided. You can use other methods of extracting the data, but since there are not that many points you can just copy and paste the data. Looking at the graph, you can see it curves quite a bit, so let's try a quadratic regression first."
      ]
    },
    {
      "cell_type": "code",
      "metadata": {
        "id": "v1ECmr8eSejG",
        "colab_type": "code",
        "outputId": "fffcf1eb-f20c-40b2-b50f-0536c420b3b6",
        "colab": {
          "base_uri": "https://localhost:8080/",
          "height": 330
        }
      },
      "source": [
        "b = np.arange(1,11,1)\n",
        "b = b.reshape([10, 1])\n",
        "n = PolyRegression(2, x, 0.0001) # You need to make the learning rate small to avoid oscilations\n",
        "n.fit(x,y)\n",
        "z = n.printWeights(x)\n",
        "lineOriginal = plt.scatter(x,y,s=10)\n",
        "lineNew = plt.plot(b, n.w2_*(b**2) + n.w1_ *(b) + n.w_, 'r--')\n",
        "plt.legend([lineOriginal], [\"Data\"])\n",
        "plt.xlabel(\"Position Level\")\n",
        "plt.ylabel(\"Salary\")\n",
        "print(\"Final cost: \",n.cost_[-1])\n",
        "print(\"Initial cost: \", n.cost_[0])"
      ],
      "execution_count": 0,
      "outputs": [
        {
          "output_type": "stream",
          "text": [
            "[[-1830.50585429]] [[-8616.76702146]] [[8146.83840417]] [[0.]]\n",
            "Final cost:  6853720298.200323\n",
            "Initial cost:  71456250000.0\n"
          ],
          "name": "stdout"
        },
        {
          "output_type": "display_data",
          "data": {
            "image/png": "[encoded data removed]",
            "text/plain": [
              "<Figure size 432x288 with 1 Axes>"
            ]
          },
          "metadata": {
            "tags": []
          }
        }
      ]
    },
    {
      "cell_type": "markdown",
      "metadata": {
        "id": "9YBo-UWB8qGT",
        "colab_type": "text"
      },
      "source": [
        "While the final cost function value is rather large, it is a great deal smaller than the initial cost in terms of magnitude. Let's try a cubic regression."
      ]
    },
    {
      "cell_type": "code",
      "metadata": {
        "id": "aEHRkZWHTT0k",
        "colab_type": "code",
        "outputId": "466da724-2dc9-4ea4-8338-28f071b064f6",
        "colab": {
          "base_uri": "https://localhost:8080/",
          "height": 330
        }
      },
      "source": [
        "n = PolyRegression(3, x, 0.000001) # You need to make the learning rate small to avoid oscilations\n",
        "n.fit(x,y)\n",
        "z = n.printWeights(x)\n",
        "lineOriginal = plt.scatter(x,y,s=10)\n",
        "lineNew = plt.plot(b, n.w3_*(b**3)+n.w2_*(b**2) + n.w1_ *(b) + n.w_, 'r--')\n",
        "plt.legend([lineOriginal], [\"Data\"])\n",
        "plt.xlabel(\"Position Level\")\n",
        "plt.ylabel(\"Salary\")\n",
        "print(\"Final cost: \",n.cost_[-1])\n",
        "print(\"Initial cost: \", n.cost_[0])"
      ],
      "execution_count": 0,
      "outputs": [
        {
          "output_type": "stream",
          "text": [
            "[[0.42274827]] [[-48.01086604]] [[-233.31750352]] [[855.44438412]]\n",
            "Final cost:  3400719531.7708306\n",
            "Initial cost:  71456250000.0\n"
          ],
          "name": "stdout"
        },
        {
          "output_type": "display_data",
          "data": {
            "image/png": "[encoded data removed]",
            "text/plain": [
              "<Figure size 432x288 with 1 Axes>"
            ]
          },
          "metadata": {
            "tags": []
          }
        }
      ]
    },
    {
      "cell_type": "markdown",
      "metadata": {
        "id": "qmWDgmXB9I6o",
        "colab_type": "text"
      },
      "source": [
        "The final cost is half as much as it was for quadratic. Even higher degrees would likely fit the data better, but once again, you risk overfitting if you go too high"
      ]
    },
    {
      "cell_type": "markdown",
      "metadata": {
        "id": "tRR8UyqG-kuX",
        "colab_type": "text"
      },
      "source": [
        "When trying to fit data to a model, you must avoid underfitting and overfitting.\n",
        "Underfitting is when a model doesn't quite learn patterns in a dataset, so even predicting training data isn't very accurate. For example, if you used linear regression on the company data, you wouldn't be able to predict well.\n",
        "\n",
        "Overfitting is when a model can't generalize because it is too influenced by the training data. It can be described as memorizing instead of learning. For example, if you had some outliers in a dataset and you use a high degree polynomial regression, your regression curve has a good chance of going through most points (even the outliers), but this could distort data prediction.\n"
      ]
    },
    {
      "cell_type": "code",
      "metadata": {
        "id": "IfF9KSf3_luk",
        "colab_type": "code",
        "colab": {}
      },
      "source": [
        ""
      ],
      "execution_count": 0,
      "outputs": []
    }
  ]
}